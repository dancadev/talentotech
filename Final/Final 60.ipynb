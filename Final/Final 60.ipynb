{
  "nbformat": 4,
  "nbformat_minor": 0,
  "metadata": {
    "colab": {
      "provenance": []
    },
    "kernelspec": {
      "name": "python3",
      "display_name": "Python 3"
    },
    "language_info": {
      "name": "python"
    }
  },
  "cells": [
    {
      "cell_type": "code",
      "execution_count": null,
      "metadata": {
        "id": "OHCcxgJ9kbpT"
      },
      "outputs": [],
      "source": []
    },
    {
      "cell_type": "markdown",
      "source": [
        "PROYECTO FINAL: GEOLOCALIZACIÓN\n",
        "\n",
        "Se tiene como objetivo geolocalizar puntos en mapa segun coordenadas dadas en dataset de de estaciones de IDEAM y de Terceros.\n",
        "Se pretende trabajar sobre los datos obtenidos de los sensores"
      ],
      "metadata": {
        "id": "bqdiGUv8kcSk"
      }
    },
    {
      "cell_type": "markdown",
      "source": [],
      "metadata": {
        "id": "plJLLsbblQIK"
      }
    },
    {
      "cell_type": "markdown",
      "source": [
        "Se instala Folium para la visualización de mapa interactivo"
      ],
      "metadata": {
        "id": "8DqFQmqrmHXj"
      }
    },
    {
      "cell_type": "code",
      "source": [
        "!pip install folium"
      ],
      "metadata": {
        "id": "_lLWS_D-kiJU"
      },
      "execution_count": null,
      "outputs": []
    },
    {
      "cell_type": "markdown",
      "source": [
        "Se importa librerias requeridas"
      ],
      "metadata": {
        "id": "5UeNeDVDmV2K"
      }
    },
    {
      "cell_type": "code",
      "source": [
        "import pandas as pd\n",
        "import geopandas as gpd\n",
        "import folium\n",
        "from shapely.geometry import Point\n",
        "import numpy as np\n",
        "import matplotlib.pyplot as plt\n",
        "import shapely as shp\n",
        "import plotly.graph_objects as go"
      ],
      "metadata": {
        "id": "uBqKmJbpmaK7"
      },
      "execution_count": null,
      "outputs": []
    },
    {
      "cell_type": "markdown",
      "source": [
        "Se guarda en variable la ruta del directorio del dataset"
      ],
      "metadata": {
        "id": "gzcIb62HmnLT"
      }
    },
    {
      "cell_type": "code",
      "source": [
        "ruta_ideam = '/content/drive/MyDrive/Colab Notebooks/Dataset/Datos_de_Estaciones_de_IDEAM_y_de_Terceros_20240525.csv'"
      ],
      "metadata": {
        "id": "pDmvYjWDmfyr"
      },
      "execution_count": null,
      "outputs": []
    },
    {
      "cell_type": "markdown",
      "source": [
        "Se lee dataset y se guarda en variable"
      ],
      "metadata": {
        "id": "6vGhhEtsm3Ga"
      }
    },
    {
      "cell_type": "code",
      "source": [
        "df = pd.read_csv(ruta_ideam)"
      ],
      "metadata": {
        "id": "ZzVDeh7mnAaT"
      },
      "execution_count": null,
      "outputs": []
    },
    {
      "cell_type": "markdown",
      "source": [
        "Se visualiza el dataset"
      ],
      "metadata": {
        "id": "pyso-Zj9nE8E"
      }
    },
    {
      "cell_type": "code",
      "source": [
        "df.head()"
      ],
      "metadata": {
        "id": "MCwyHCcEnJIb"
      },
      "execution_count": null,
      "outputs": []
    },
    {
      "cell_type": "markdown",
      "source": [
        "Se extrae los valores de las columnas de Latitud y Longitud"
      ],
      "metadata": {
        "id": "0kqXivAinLyK"
      }
    },
    {
      "cell_type": "code",
      "source": [
        "df_coords = df[['Latitud', 'Longitud']]"
      ],
      "metadata": {
        "id": "Np_Xr-48nUrU"
      },
      "execution_count": null,
      "outputs": []
    },
    {
      "cell_type": "markdown",
      "source": [
        "Se crea geometria de puntos a partir de las coordenadas\n",
        "Se crea un GeoDataFrame\n",
        "Se define el sistema de referencia de coordenadas (CRS)"
      ],
      "metadata": {
        "id": "tyaJBjyLnaYT"
      }
    },
    {
      "cell_type": "code",
      "source": [
        "# Crear una geometría de puntos a partir de las coordenadas\n",
        "geometry = [Point(xy) for xy in zip(df_coords['Longitud'], df_coords['Latitud'])]\n",
        "\n",
        "# Crear un GeoDataFrame\n",
        "gdf = gpd.GeoDataFrame(df_coords, geometry=geometry)\n",
        "\n",
        "# Definir el sistema de referencia de coordenadas (CRS)\n",
        "gdf.crs = {'init': 'epsg:4326'}"
      ],
      "metadata": {
        "id": "8qJZf6bZnVxi"
      },
      "execution_count": null,
      "outputs": []
    },
    {
      "cell_type": "markdown",
      "source": [
        "En la generación del mapa se presenta una falla de recursos(mi pc) y no se genera en su totalidad o se tarda demasiado en generarse ya sea en coolab o desde jupyter notebook en docker."
      ],
      "metadata": {
        "id": "5g5jDq8Pnv1r"
      }
    },
    {
      "cell_type": "code",
      "source": [
        "# Crear un mapa centrado en la primera coordenada del GeoDataFrame\n",
        "mapa = folium.Map(location=[df_coords.iloc[0]['Latitud'], df_coords.iloc[0]['Longitud']], zoom_start=12)\n",
        "\n",
        "# Agregar puntos al mapa\n",
        "for idx, row in gdf.iterrows():\n",
        "    folium.Marker([row['Latitud'], row['Longitud']]).add_to(m)\n",
        "\n",
        "# Mostrar el mapa\n",
        "mapa"
      ],
      "metadata": {
        "id": "Rb1TXOOonozy"
      },
      "execution_count": null,
      "outputs": []
    },
    {
      "cell_type": "markdown",
      "source": [
        "Se lee con geopandas el archivo"
      ],
      "metadata": {
        "id": "_9ixTXeopf9l"
      }
    },
    {
      "cell_type": "code",
      "source": [
        "ideam = gpd.read_file(ruta_ideam)"
      ],
      "metadata": {
        "id": "2Nbvd9x6oRyS"
      },
      "execution_count": null,
      "outputs": []
    },
    {
      "cell_type": "markdown",
      "source": [
        "Se muestra las columnas y tipo de dato de dataset"
      ],
      "metadata": {
        "id": "Pe1bkA8HpoXj"
      }
    },
    {
      "cell_type": "code",
      "source": [
        "print(ideam.shape)\n",
        "ideam.info()"
      ],
      "metadata": {
        "id": "RltFDLUQpTaS"
      },
      "execution_count": null,
      "outputs": []
    },
    {
      "cell_type": "markdown",
      "source": [
        "Se revisa valores faltantes"
      ],
      "metadata": {
        "id": "BehVsQoupyez"
      }
    },
    {
      "cell_type": "code",
      "source": [
        "ideam.isnull().sum()"
      ],
      "metadata": {
        "id": "EbKLRWzbpx4x"
      },
      "execution_count": null,
      "outputs": []
    },
    {
      "cell_type": "markdown",
      "source": [
        "Muestra las columnas de dataset"
      ],
      "metadata": {
        "id": "m7qVLPLKrPmK"
      }
    },
    {
      "cell_type": "code",
      "source": [
        "ideam.describe()"
      ],
      "metadata": {
        "id": "bjUHQzgxqgfq"
      },
      "execution_count": null,
      "outputs": []
    },
    {
      "cell_type": "markdown",
      "source": [
        "se reemplaza valores 0 ,notnull"
      ],
      "metadata": {
        "id": "F2AXVbZZrevC"
      }
    },
    {
      "cell_type": "code",
      "source": [
        "df[['CodigoEstacion','CodigoSensor','FechaObservacion','ValorObservado','NombreEstacion','Departamento','Municipio','UnidadMedida','DescripcionSensor']] = df[['CodigoEstacion','CodigoSensor','FechaObservacion','ValorObservado','NombreEstacion','Departamento','Municipio','UnidadMedida','DescripcionSensor']].replace(0,np.NaN)\n",
        "df.head()"
      ],
      "metadata": {
        "id": "F_JhBIg3rj0T"
      },
      "execution_count": null,
      "outputs": []
    }
  ]
}